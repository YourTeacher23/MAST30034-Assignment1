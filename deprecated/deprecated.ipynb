{
 "cells": [
  {
   "cell_type": "code",
   "execution_count": null,
   "metadata": {},
   "outputs": [],
   "source": [
    "Alr1 <- LassoReg(X1)\n",
    "Alr2 <- LassoReg(X2)\n",
    "Alr3 <- LassoReg(X3)\n",
    "Alr4 <- LassoReg(X4)\n",
    "Alr5 <- LassoReg(X5)\n",
    "Alr6 <- LassoReg(X6)\n",
    "Alr7 <- LassoReg(X7)\n",
    "Alr8 <- LassoReg(X8)\n",
    "Alr9 <- LassoReg(X9)\n",
    "Alr10 <- LassoReg(X10)"
   ]
  },
  {
   "cell_type": "code",
   "execution_count": null,
   "metadata": {},
   "outputs": [],
   "source": [
    "alr_list <- list(Alr1, Alr2, Alr3, Alr4, Alr5, Alr6, Alr7, Alr8, Alr9, Alr10)\n",
    "X_list <- list(X1, X2, X3, X4, X5, X6, X7, X8, X9, X10)\n",
    "\n",
    "sum_MSE = 0\n",
    "for (i in (1:10)) {\n",
    "    Alr <- alr_list[[i]]\n",
    "    X <- X_list[[i]]\n",
    "    X <- data.matrix(X)\n",
    "    X <- X[,-1]\n",
    "    D_lr <- (X %*% t(Alr))\n",
    "    sum_MSE = sum_MSE + (sum(sum(X - ((D_lr %*% Alr)^2))) / (N*V))\n",
    "    #print(sum(X - ((D_lr %*% Alr)^2)))\n",
    "}\n",
    "\n",
    "avg_SMSE = sum_MSE / 10\n",
    "print(avg_SMSE)"
   ]
  },
  {
   "cell_type": "code",
   "execution_count": null,
   "metadata": {},
   "outputs": [],
   "source": [
    "#write.csv(Alr1,file=\"../MAST30034-Assignment1/data/Alr1.csv\", row.names=FALSE)\n",
    "#write.csv(Alr2,file=\"../MAST30034-Assignment1/data/Alr2.csv\", row.names=FALSE)\n",
    "#write.csv(Alr3,file=\"../MAST30034-Assignment1/data/Alr3.csv\", row.names=FALSE)\n",
    "#write.csv(Alr4,file=\"../MAST30034-Assignment1/data/Alr4.csv\", row.names=FALSE)\n",
    "#write.csv(Alr5,file=\"../MAST30034-Assignment1/data/Alr5.csv\", row.names=FALSE)\n",
    "#write.csv(Alr6,file=\"../MAST30034-Assignment1/data/Alr6.csv\", row.names=FALSE)\n",
    "#write.csv(Alr7,file=\"../MAST30034-Assignment1/data/Alr7.csv\", row.names=FALSE)\n",
    "#write.csv(Alr8,file=\"../MAST30034-Assignment1/data/Alr8.csv\", row.names=FALSE)\n",
    "#write.csv(Alr9,file=\"../MAST30034-Assignment1/data/Alr9.csv\", row.names=FALSE)\n",
    "#write.csv(Alr10,file=\"../MAST30034-Assignment1/data/Alr10.csv\", row.names=FALSE)"
   ]
  },
  {
   "cell_type": "code",
   "execution_count": null,
   "metadata": {},
   "outputs": [],
   "source": [
    "sum_MSE = 0\n",
    "for i in range(10):\n",
    "    Alr = pd.read_csv(\"../MAST30034-Assignment1/data/Alr\" + str(i + 1) + \".csv\")\n",
    "    X = pd.read_csv(\"../MAST30034-Assignment1/data/X\" + str(i + 1) + \".csv\")\n",
    "    X = X.drop(columns=\"Unnamed: 0\")\n",
    "    D_lr = np.dot(X, np.transpose(Alr))\n",
    "    X = np.array(X)\n",
    "    sum_MSE += sum(sum((X - np.dot(D_lr, Alr))**2)) / (N*V)\n",
    "    \n",
    "avg_SMSE = sum_MSE / 10"
   ]
  },
  {
   "cell_type": "code",
   "execution_count": null,
   "metadata": {},
   "outputs": [],
   "source": [
    "def new_X(i):\n",
    "    \n",
    "    temp_noise = np.array([gauss(0.0, math.sqrt(0.25)) for i in range(1440)])\n",
    "    temp_noise = temp_noise.reshape((240,6))\n",
    "\n",
    "    spatial_noise = np.array([gauss(0.0, math.sqrt(0.015)) for i in range(2646)])\n",
    "    spatial_noise = spatial_noise.reshape((6,441))\n",
    "\n",
    "    X = np.dot((TC + temp_noise), (SM + spatial_noise))\n",
    "    X_df = pd.DataFrame(X)\n",
    "    \n",
    "    X_df.to_csv(\"../MAST30034-Assignment1/data/X\" + str(i) + \".csv\")\n",
    "    return\n",
    "\n",
    "for i in range(10):\n",
    "    new_X(i+1)"
   ]
  },
  {
   "cell_type": "code",
   "execution_count": null,
   "metadata": {},
   "outputs": [],
   "source": [
    "TC = np.transpose(TC)\n",
    "X = np.dot((TC + temp_noise), (SM + spatial_noise))\n",
    "X_df = pd.DataFrame(X)\n",
    "randomly_selected = random.sample(list(range(0,V)), 100)\n",
    "sample = X_df[randomly_selected]\n",
    "sns.lineplot(data = sample)"
   ]
  }
 ],
 "metadata": {
  "kernelspec": {
   "display_name": "Python 3 (Anaconda 3)",
   "language": "python",
   "name": "python3"
  },
  "language_info": {
   "codemirror_mode": {
    "name": "ipython",
    "version": 3
   },
   "file_extension": ".py",
   "mimetype": "text/x-python",
   "name": "python",
   "nbconvert_exporter": "python",
   "pygments_lexer": "ipython3",
   "version": "3.8.2"
  }
 },
 "nbformat": 4,
 "nbformat_minor": 4
}
