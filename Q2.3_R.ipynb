{
 "cells": [
  {
   "cell_type": "code",
   "execution_count": 1,
   "metadata": {},
   "outputs": [],
   "source": [
    "X1 = read.csv(\"../MAST30034-Assignment1/data/X1.csv\")\n",
    "X2 = read.csv(\"../MAST30034-Assignment1/data/X2.csv\")\n",
    "X3 = read.csv(\"../MAST30034-Assignment1/data/X3.csv\")\n",
    "X4 = read.csv(\"../MAST30034-Assignment1/data/X4.csv\")\n",
    "X5 = read.csv(\"../MAST30034-Assignment1/data/X5.csv\")\n",
    "X6 = read.csv(\"../MAST30034-Assignment1/data/X6.csv\")\n",
    "X7 = read.csv(\"../MAST30034-Assignment1/data/X7.csv\")\n",
    "X8 = read.csv(\"../MAST30034-Assignment1/data/X8.csv\")\n",
    "X9 = read.csv(\"../MAST30034-Assignment1/data/X9.csv\")\n",
    "X10 = read.csv(\"../MAST30034-Assignment1/data/X10.csv\")\n",
    "\n",
    "SM = read.csv(\"../MAST30034-Assignment1/data/SM.csv\")\n",
    "TC = read.csv(\"../MAST30034-Assignment1/data/TC.csv\")\n",
    "options(repr.matrix.max.cols=150, repr.matrix.max.rows=200)"
   ]
  },
  {
   "cell_type": "code",
   "execution_count": 2,
   "metadata": {},
   "outputs": [],
   "source": [
    "SM <- data.matrix(SM)\n",
    "SM <- SM[, colnames(SM) != \"X\"]\n",
    "\n",
    "TC <- data.matrix(TC)\n",
    "TC <- TC[, colnames(TC) != \"X\"]"
   ]
  },
  {
   "cell_type": "code",
   "execution_count": 3,
   "metadata": {},
   "outputs": [],
   "source": [
    "# Setting up rhos\n",
    "r <- seq(from = 0, to = 1, by = 0.05)\n",
    "\n",
    "# Setting up constant variables\n",
    "N <- 240\n",
    "nsrcs <- 6\n",
    "x1 <- 21\n",
    "x2 <- 21\n",
    "V <- 441"
   ]
  },
  {
   "cell_type": "code",
   "execution_count": 4,
   "metadata": {},
   "outputs": [],
   "source": [
    "#Lasso Regression Function\n",
    "LassoReg <- function(X) {  \n",
    "    X <- data.matrix(X)\n",
    "    X <- X[, colnames(X) != \"X\"]\n",
    "    for ( k in 1 : ( x1*x2 ) ) {\n",
    "        Ao <- t(SM)[,k]\n",
    "        A <- Ao + step *( t(TC)%*%(X[ , k]=(TC%*%Ao ) ) )\n",
    "        A <- (1/(1+thr ) ) * (sign(A)*pmax(replicate(nsrcs, 0 ) , abs(A) - thr ) )\n",
    "        for ( i in 1:10 ) {\n",
    "            Ao <- A\n",
    "            A <- Ao+step *( t(TC)%*%(X[ , k]=(TC%*%Ao ) ) )\n",
    "            A <- (1/(1+thr)) * (sign(A)*pmax(replicate(nsrcs , 0 ) , abs(A) -thr ) )\n",
    "        }\n",
    "        Alr[ , k]<-A\n",
    "    }\n",
    "    return (Alr)\n",
    "}"
   ]
  },
  {
   "cell_type": "code",
   "execution_count": 5,
   "metadata": {},
   "outputs": [
    {
     "name": "stdout",
     "output_type": "stream",
     "text": [
      "[1] -8.992578e+12\n",
      "[1] -3.381517e+12\n",
      "[1] -1.258572e+12\n",
      "[1] -4.60556e+11\n",
      "[1] -163540176594\n",
      "[1] -55499007608\n",
      "[1] -17680497749\n",
      "[1] -5143547628\n",
      "[1] -1309445634\n",
      "[1] -270353339\n",
      "[1] -38654664\n",
      "[1] -2501923\n",
      "[1] -11141.07\n",
      "[1] 0.0003134073\n",
      "[1] 0.0003134073\n",
      "[1] 0.0003134073\n",
      "[1] 0.0003134073\n",
      "[1] 0.0003134073\n",
      "[1] 0.0003134073\n",
      "[1] 0.0003134073\n",
      "[1] 0.0003134073\n"
     ]
    }
   ],
   "source": [
    "SMSE <- c()\n",
    "\n",
    "# Find average MSE for 21 different rhos\n",
    "for (rho in r) {\n",
    "\n",
    "    # Setting up variables for Lasso Regression\n",
    "    step <- 1/(norm(TC%*%t(TC) ) * 1.1 )\n",
    "    thr <- rho * N * step\n",
    "    Ao <- matrix( 0 , nsrcs , 1 )\n",
    "    A <- matrix( 0 , nsrcs , 1 )\n",
    "    Alr <- matrix( 0 , nsrcs , x1*x2 )\n",
    "\n",
    "    \n",
    "    # Finding Alr for all different standardised Xs (10 realisations)\n",
    "    Alr1 <- LassoReg(X1)\n",
    "    Alr2 <- LassoReg(X2)\n",
    "    Alr3 <- LassoReg(X3)\n",
    "    Alr4 <- LassoReg(X4)\n",
    "    Alr5 <- LassoReg(X5)\n",
    "    Alr6 <- LassoReg(X6)\n",
    "    Alr7 <- LassoReg(X7)\n",
    "    Alr8 <- LassoReg(X8)\n",
    "    Alr9 <- LassoReg(X9)\n",
    "    Alr10 <- LassoReg(X10)\n",
    "\n",
    "\n",
    "\n",
    "    \n",
    "    alr_list <- list(Alr1, Alr2, Alr3, Alr4, Alr5, Alr6, Alr7, Alr8, Alr9, Alr10)\n",
    "    X_list <- list(X1, X2, X3, X4, X5, X6, X7, X8, X9, X10)\n",
    "\n",
    "    # Find average MSE over 10 realisations\n",
    "    sum_MSE = 0\n",
    "    for (i in (1:10)) {\n",
    "        Alr <- alr_list[[i]]\n",
    "        X <- X_list[[i]]\n",
    "        X <- data.matrix(X)\n",
    "        X <- X[,-1]\n",
    "        D_lr <- (X %*% t(Alr))\n",
    "        sum_MSE = sum_MSE + (sum(sum(X - ((D_lr %*% Alr)^2))) / (N*V))\n",
    "        #print(sum(X - ((D_lr %*% Alr)^2)))\n",
    "    }\n",
    "\n",
    "    avg_SMSE = sum_MSE / 10\n",
    "    print(avg_SMSE)\n",
    "    SMSE <- append(SMSE, avg_SMSE)\n",
    "}"
   ]
  },
  {
   "cell_type": "code",
   "execution_count": 6,
   "metadata": {},
   "outputs": [],
   "source": [
    "write.csv(SMSE,file=\"../MAST30034-Assignment1/data/smse.csv\", row.names=FALSE)"
   ]
  }
 ],
 "metadata": {
  "kernelspec": {
   "display_name": "R",
   "language": "R",
   "name": "ir"
  },
  "language_info": {
   "codemirror_mode": "r",
   "file_extension": ".r",
   "mimetype": "text/x-r-source",
   "name": "R",
   "pygments_lexer": "r",
   "version": "4.0.3"
  }
 },
 "nbformat": 4,
 "nbformat_minor": 4
}
