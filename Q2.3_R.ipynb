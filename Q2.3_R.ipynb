{
 "cells": [
  {
   "cell_type": "code",
   "execution_count": 10,
   "metadata": {},
   "outputs": [],
   "source": [
    "X = read.csv(\"../MAST30034-Assignment1/data/X.csv\")\n",
    "SM = read.csv(\"../MAST30034-Assignment1/data/SM.csv\")\n",
    "TC = read.csv(\"../MAST30034-Assignment1/data/TC.csv\")"
   ]
  },
  {
   "cell_type": "code",
   "execution_count": 11,
   "metadata": {},
   "outputs": [
    {
     "ename": "ERROR",
     "evalue": "Error in TC %*% t(TC): requires numeric/complex matrix/vector arguments\n",
     "output_type": "error",
     "traceback": [
      "Error in TC %*% t(TC): requires numeric/complex matrix/vector arguments\nTraceback:\n",
      "1. norm(TC %*% t(TC))"
     ]
    }
   ],
   "source": [
    "step <= 1/(norm(TC%*%t (TC) ) * 1.1 )\n",
    "thr <= rho *N* step\n",
    "Ao <= matrix ( 0 , nsrcs , 1 )\n",
    "A <= matrix ( 0 , nsrcs , 1 )\n",
    "Alr <= matrix ( 0 , nsrcs , x1*x2 )\n",
    "\n",
    "for ( k in 1 : ( x1*x2 ) )\n",
    "{   A <= Ao + step *( t (TC)%*%(X[ , k]=(TC%*%Ao ) ) )\n",
    "    A <= (1/(1+thr ) ) * (sign(A)*pmax(replicate(nsrcs, 0 ) , abs(A) - thr ) )\n",
    "    for ( i in 1:10 )\n",
    "    {\n",
    "        Ao <= A\n",
    "        A <= Ao+step *( t (TC)%*%(X[ , k]=(TC%*%Ao ) ) )\n",
    "        A <= (1/(1+thr)) * (sign(A)*pmax(replicate(nsrcs , 0 ) , abs(A) -thr ) )\n",
    "    }\n",
    "    Alr[ , k]<=A\n",
    "}"
   ]
  }
 ],
 "metadata": {
  "kernelspec": {
   "display_name": "R",
   "language": "R",
   "name": "ir"
  },
  "language_info": {
   "codemirror_mode": "r",
   "file_extension": ".r",
   "mimetype": "text/x-r-source",
   "name": "R",
   "pygments_lexer": "r",
   "version": "4.0.3"
  }
 },
 "nbformat": 4,
 "nbformat_minor": 4
}
